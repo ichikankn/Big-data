{
  "nbformat": 4,
  "nbformat_minor": 0,
  "metadata": {
    "colab": {
      "provenance": [],
      "mount_file_id": "1_fBTmAs6BE7jGOZI5gzm1iTsK3asr9Qa",
      "authorship_tag": "ABX9TyNzyd7I/9CAY1nkIqI8V1x6",
      "include_colab_link": true
    },
    "kernelspec": {
      "name": "python3",
      "display_name": "Python 3"
    },
    "language_info": {
      "name": "python"
    }
  },
  "cells": [
    {
      "cell_type": "markdown",
      "metadata": {
        "id": "view-in-github",
        "colab_type": "text"
      },
      "source": [
        "<a href=\"https://colab.research.google.com/github/ichikankn/Big-data/blob/main/big_data.ipynb\" target=\"_parent\"><img src=\"https://colab.research.google.com/assets/colab-badge.svg\" alt=\"Open In Colab\"/></a>"
      ]
    },
    {
      "cell_type": "code",
      "execution_count": null,
      "metadata": {
        "id": "tGq5nvate0zj",
        "colab": {
          "base_uri": "https://localhost:8080/"
        },
        "outputId": "8d85c702-bacd-46e9-fcbb-9a8d986a169b"
      },
      "outputs": [
        {
          "output_type": "stream",
          "name": "stdout",
          "text": [
            "Requirement already satisfied: pandas in /usr/local/lib/python3.10/dist-packages (2.0.3)\n",
            "Requirement already satisfied: scikit-learn in /usr/local/lib/python3.10/dist-packages (1.2.2)\n",
            "Requirement already satisfied: matplotlib in /usr/local/lib/python3.10/dist-packages (3.7.1)\n",
            "Requirement already satisfied: python-dateutil>=2.8.2 in /usr/local/lib/python3.10/dist-packages (from pandas) (2.8.2)\n",
            "Requirement already satisfied: pytz>=2020.1 in /usr/local/lib/python3.10/dist-packages (from pandas) (2023.4)\n",
            "Requirement already satisfied: tzdata>=2022.1 in /usr/local/lib/python3.10/dist-packages (from pandas) (2024.1)\n",
            "Requirement already satisfied: numpy>=1.21.0 in /usr/local/lib/python3.10/dist-packages (from pandas) (1.25.2)\n",
            "Requirement already satisfied: scipy>=1.3.2 in /usr/local/lib/python3.10/dist-packages (from scikit-learn) (1.11.4)\n",
            "Requirement already satisfied: joblib>=1.1.1 in /usr/local/lib/python3.10/dist-packages (from scikit-learn) (1.4.2)\n",
            "Requirement already satisfied: threadpoolctl>=2.0.0 in /usr/local/lib/python3.10/dist-packages (from scikit-learn) (3.5.0)\n",
            "Requirement already satisfied: contourpy>=1.0.1 in /usr/local/lib/python3.10/dist-packages (from matplotlib) (1.2.1)\n",
            "Requirement already satisfied: cycler>=0.10 in /usr/local/lib/python3.10/dist-packages (from matplotlib) (0.12.1)\n",
            "Requirement already satisfied: fonttools>=4.22.0 in /usr/local/lib/python3.10/dist-packages (from matplotlib) (4.53.0)\n",
            "Requirement already satisfied: kiwisolver>=1.0.1 in /usr/local/lib/python3.10/dist-packages (from matplotlib) (1.4.5)\n",
            "Requirement already satisfied: packaging>=20.0 in /usr/local/lib/python3.10/dist-packages (from matplotlib) (24.1)\n",
            "Requirement already satisfied: pillow>=6.2.0 in /usr/local/lib/python3.10/dist-packages (from matplotlib) (9.4.0)\n",
            "Requirement already satisfied: pyparsing>=2.3.1 in /usr/local/lib/python3.10/dist-packages (from matplotlib) (3.1.2)\n",
            "Requirement already satisfied: six>=1.5 in /usr/local/lib/python3.10/dist-packages (from python-dateutil>=2.8.2->pandas) (1.16.0)\n"
          ]
        }
      ],
      "source": [
        "pip install pandas scikit-learn matplotlib\n"
      ]
    },
    {
      "cell_type": "code",
      "source": [
        "import pandas as pd\n",
        "\n",
        "# Membaca dataset dari file CSV\n",
        "df = pd.read_csv('/content/drive/MyDrive/Big data uas/dataset_artikel_berita.csv')\n",
        "print(df.head())\n"
      ],
      "metadata": {
        "colab": {
          "base_uri": "https://localhost:8080/"
        },
        "id": "ki0IekTV3l_o",
        "outputId": "c756faf8-6a99-4390-ad04-22cf44cd630b"
      },
      "execution_count": null,
      "outputs": [
        {
          "output_type": "stream",
          "name": "stdout",
          "text": [
            "       Judul                           Teks\n",
            "0  Artikel 1    Ekonomi sedang tumbuh pesat\n",
            "1  Artikel 2         Politik global memanas\n",
            "2  Artikel 3         Teknologi baru dirilis\n",
            "3  Artikel 4       Olahraga menjadi populer\n",
            "4  Artikel 5  Kesehatan penting untuk semua\n"
          ]
        }
      ]
    },
    {
      "cell_type": "code",
      "source": [
        "from sklearn.feature_extraction.text import TfidfVectorizer\n",
        "\n",
        "# Konversi teks artikel menjadi representasi TF-IDF\n",
        "vectorizer = TfidfVectorizer(stop_words='english')\n",
        "X = vectorizer.fit_transform(df['Teks'])\n"
      ],
      "metadata": {
        "id": "t0q6HVzb33Pn"
      },
      "execution_count": null,
      "outputs": []
    },
    {
      "cell_type": "code",
      "source": [
        "import pandas as pd\n",
        "from sklearn.feature_extraction.text import TfidfVectorizer\n",
        "from sklearn.cluster import KMeans\n",
        "import matplotlib.pyplot as plt\n",
        "\n",
        "# Membaca dataset dari file CSV\n",
        "df = pd.read_csv('/content/drive/MyDrive/Big data uas/dataset_artikel_berita.csv')\n",
        "\n",
        "# Konversi teks artikel menjadi representasi TF-IDF\n",
        "vectorizer = TfidfVectorizer(stop_words='english')\n",
        "X = vectorizer.fit_transform(df['Teks'])\n",
        "\n",
        "# Menentukan jumlah kluster dengan metode elbow\n",
        "# Ubah range_n_clusters menjadi maksimum jumlah sampel di dataset\n",
        "sse = []\n",
        "range_n_clusters = range(1, df.shape[0] + 1)  # Jumlah kluster maksimum adalah jumlah sampel\n",
        "for k in range_n_clusters:\n",
        "    kmeans = KMeans(n_clusters=k, random_state=0)\n",
        "    kmeans.fit(X)\n",
        "    sse.append(kmeans.inertia_)\n",
        "\n",
        "plt.plot(range_n_clusters, sse)\n",
        "plt.xlabel('Number of clusters')\n",
        "plt.ylabel('SSE')\n",
        "plt.title('Elbow Method For Optimal k')\n",
        "plt.show()"
      ],
      "metadata": {
        "colab": {
          "base_uri": "https://localhost:8080/",
          "height": 527
        },
        "id": "Hxbm9rPr38EN",
        "outputId": "a22259c0-3377-4aaf-9720-78eaa69b2ecf"
      },
      "execution_count": null,
      "outputs": [
        {
          "output_type": "stream",
          "name": "stderr",
          "text": [
            "/usr/local/lib/python3.10/dist-packages/sklearn/cluster/_kmeans.py:870: FutureWarning: The default value of `n_init` will change from 10 to 'auto' in 1.4. Set the value of `n_init` explicitly to suppress the warning\n",
            "  warnings.warn(\n"
          ]
        },
        {
          "output_type": "display_data",
          "data": {
            "text/plain": [
              "<Figure size 640x480 with 1 Axes>"
            ],
            "image/png": "[encoded data removed]"
          },
          "metadata": {}
        }
      ]
    },
    {
      "cell_type": "code",
      "source": [
        "# Menggunakan 5 kluster (dari plot silhouette, misalnya)\n",
        "kmeans = KMeans(n_clusters=5, random_state=0)\n",
        "df['Kluster'] = kmeans.fit_predict(X)\n",
        "\n",
        "print(df)\n"
      ],
      "metadata": {
        "colab": {
          "base_uri": "https://localhost:8080/"
        },
        "id": "OKAXXP2N4sqH",
        "outputId": "2d448ca5-a168-4be5-d7d2-72cf8a623bbf"
      },
      "execution_count": null,
      "outputs": [
        {
          "output_type": "stream",
          "name": "stdout",
          "text": [
            "       Judul                           Teks  Kluster\n",
            "0  Artikel 1    Ekonomi sedang tumbuh pesat        3\n",
            "1  Artikel 2         Politik global memanas        4\n",
            "2  Artikel 3         Teknologi baru dirilis        1\n",
            "3  Artikel 4       Olahraga menjadi populer        2\n",
            "4  Artikel 5  Kesehatan penting untuk semua        0\n"
          ]
        }
      ]
    },
    {
      "cell_type": "code",
      "source": [
        "# Menampilkan artikel dalam setiap kluster\n",
        "for cluster in range(5):\n",
        "    print(f\"Kluster {cluster}:\")\n",
        "    print(df[df['Kluster'] == cluster][['Judul', 'Teks']])\n",
        "    print()\n"
      ],
      "metadata": {
        "colab": {
          "base_uri": "https://localhost:8080/"
        },
        "id": "XpNbLskE4xVt",
        "outputId": "c0c800c2-89d8-4cff-9c7f-06dac9a37378"
      },
      "execution_count": null,
      "outputs": [
        {
          "output_type": "stream",
          "name": "stdout",
          "text": [
            "Kluster 0:\n",
            "       Judul                           Teks\n",
            "4  Artikel 5  Kesehatan penting untuk semua\n",
            "\n",
            "Kluster 1:\n",
            "       Judul                    Teks\n",
            "2  Artikel 3  Teknologi baru dirilis\n",
            "\n",
            "Kluster 2:\n",
            "       Judul                      Teks\n",
            "3  Artikel 4  Olahraga menjadi populer\n",
            "\n",
            "Kluster 3:\n",
            "       Judul                         Teks\n",
            "0  Artikel 1  Ekonomi sedang tumbuh pesat\n",
            "\n",
            "Kluster 4:\n",
            "       Judul                    Teks\n",
            "1  Artikel 2  Politik global memanas\n",
            "\n"
          ]
        }
      ]
    },
    {
      "cell_type": "code",
      "source": [
        "df.to_csv('/content/drive/MyDrive/Big data uas/dataset_artikel_berita.csv', index=False)"
      ],
      "metadata": {
        "id": "fQal_dBp40zi"
      },
      "execution_count": null,
      "outputs": []
    }
  ]
}